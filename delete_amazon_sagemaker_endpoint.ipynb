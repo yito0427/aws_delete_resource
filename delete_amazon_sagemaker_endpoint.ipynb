{
 "cells": [
  {
   "cell_type": "markdown",
   "metadata": {},
   "source": [
    "# Amazon SageMakerの推論エンドポイントを削除"
   ]
  },
  {
   "cell_type": "markdown",
   "metadata": {},
   "source": [
    "## GUIから消せない場合\n",
    "モニタリングを設定している場合（Model Monitor)\n",
    "\n",
    "コンソールで以下のエラーが発生する場合\n",
    "\n",
    "*ValidationException*  \n",
    "The Endpoint currently has one or more MonitoringSchedules. Please delete the MonitoringSchedules before deleting the Endpoint.\n"
   ]
  },
  {
   "cell_type": "markdown",
   "metadata": {},
   "source": [
    "# リージョン指定"
   ]
  },
  {
   "cell_type": "code",
   "execution_count": null,
   "metadata": {},
   "outputs": [],
   "source": [
    "#region = 'ap-northeast-1' # Tokyoリージョン\n",
    "region = 'us-east-2' # Ohioリージョン"
   ]
  },
  {
   "cell_type": "code",
   "execution_count": null,
   "metadata": {},
   "outputs": [],
   "source": [
    "# Imports\n",
    "import boto3\n",
    "import json\n",
    "import numpy as np\n",
    "import pandas as pd\n",
    "import time"
   ]
  },
  {
   "cell_type": "code",
   "execution_count": null,
   "metadata": {},
   "outputs": [],
   "source": [
    "# Configure the SDK to Personalize:\n",
    "sm = boto3.client('sagemaker', region_name=region)\n",
    "#personalize_runtime = boto3.client('personalize-runtime', region_name=region)"
   ]
  },
  {
   "cell_type": "markdown",
   "metadata": {},
   "source": [
    "## モニタリングスケジュールを削除\n",
    "\n",
    "https://boto3.amazonaws.com/v1/documentation/api/latest/reference/services/sagemaker.html#SageMaker.Client.list_monitoring_schedules"
   ]
  },
  {
   "cell_type": "code",
   "execution_count": null,
   "metadata": {},
   "outputs": [],
   "source": [
    "l_monitoring_schedule = sm.list_monitoring_schedules()"
   ]
  },
  {
   "cell_type": "code",
   "execution_count": null,
   "metadata": {},
   "outputs": [],
   "source": [
    "l_monitoring_schedule"
   ]
  },
  {
   "cell_type": "code",
   "execution_count": null,
   "metadata": {},
   "outputs": [],
   "source": [
    "# Delete the campaign:\n",
    "if len(sm.list_monitoring_schedules()['MonitoringScheduleSummaries'])!=0:\n",
    "    for i in range(len(lst['MonitoringScheduleSummaries'])):\n",
    "        monitoring_schedule_name = l_monitoring_schedule['MonitoringScheduleSummaries'][i]['MonitoringScheduleName']\n",
    "        sm.delete_monitoring_schedule(MonitoringScheduleName=monitoring_schedule_name)\n",
    "    \n",
    "    ### 削除されるまで待つ\n",
    "    while 1:\n",
    "        if len(sm.list_monitoring_schedules()['MonitoringScheduleSummaries'])==0:\n",
    "            print('Complete deleting!!!!!')\n",
    "            break\n",
    "        print('waiting for deleting...')\n",
    "        time.sleep(10)"
   ]
  },
  {
   "cell_type": "code",
   "execution_count": null,
   "metadata": {},
   "outputs": [],
   "source": [
    "### 確認\n",
    "sm.list_monitoring_schedules()"
   ]
  },
  {
   "cell_type": "markdown",
   "metadata": {},
   "source": [
    "## エンドポイントを削除"
   ]
  },
  {
   "cell_type": "code",
   "execution_count": null,
   "metadata": {},
   "outputs": [],
   "source": [
    "l_endpoint = sm.list_endpoints()"
   ]
  },
  {
   "cell_type": "code",
   "execution_count": null,
   "metadata": {},
   "outputs": [],
   "source": [
    "l_endpoint"
   ]
  },
  {
   "cell_type": "code",
   "execution_count": null,
   "metadata": {},
   "outputs": [],
   "source": [
    "# Delete the campaign:\n",
    "if len(sm.list_endpoints()['Endpoints'])!=0:\n",
    "    for i in range(len(l_endpoint['Endpoints'])):\n",
    "        endpoint_name = l_endpoint['Endpoints'][i]['EndpointName']\n",
    "        sm.delete_endpoint(EndpointName=endpoint_name)\n",
    "    \n",
    "    ### 削除されるまで待つ\n",
    "    while 1:\n",
    "        if len(sm.list_endpoints()['Endpoints'])==0:\n",
    "            print('Complete deleting!!!!!')\n",
    "            break\n",
    "        print('waiting for deleting...')\n",
    "        time.sleep(10)"
   ]
  },
  {
   "cell_type": "code",
   "execution_count": null,
   "metadata": {},
   "outputs": [],
   "source": [
    "### 確認\n",
    "sm.list_endpoints()"
   ]
  },
  {
   "cell_type": "code",
   "execution_count": null,
   "metadata": {},
   "outputs": [],
   "source": []
  }
 ],
 "metadata": {
  "instance_type": "ml.t3.medium",
  "kernelspec": {
   "display_name": "Python 3 (Data Science)",
   "language": "python",
   "name": "python3__SAGEMAKER_INTERNAL__arn:aws:sagemaker:ap-northeast-1:102112518831:image/datascience-1.0"
  },
  "language_info": {
   "codemirror_mode": {
    "name": "ipython",
    "version": 3
   },
   "file_extension": ".py",
   "mimetype": "text/x-python",
   "name": "python",
   "nbconvert_exporter": "python",
   "pygments_lexer": "ipython3",
   "version": "3.7.10"
  }
 },
 "nbformat": 4,
 "nbformat_minor": 4
}
