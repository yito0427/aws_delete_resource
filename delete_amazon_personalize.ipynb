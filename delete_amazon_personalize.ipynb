{
 "cells": [
  {
   "cell_type": "markdown",
   "metadata": {},
   "source": [
    "# Amazon Personalizeのリソース削除を行う\n",
    "\n",
    "参考\n",
    "\n",
    "https://github.com/aws-samples/amazon-personalize-samples/blob/master/getting_started/notebooks/Cleanup.ipynb"
   ]
  },
  {
   "cell_type": "markdown",
   "metadata": {},
   "source": [
    "# リージョン指定"
   ]
  },
  {
   "cell_type": "code",
   "execution_count": 13,
   "metadata": {},
   "outputs": [],
   "source": [
    "region = 'ap-northeast-1'"
   ]
  },
  {
   "cell_type": "code",
   "execution_count": 14,
   "metadata": {},
   "outputs": [],
   "source": [
    "# Imports\n",
    "import boto3\n",
    "import json\n",
    "import numpy as np\n",
    "import pandas as pd\n",
    "import time"
   ]
  },
  {
   "cell_type": "code",
   "execution_count": 15,
   "metadata": {},
   "outputs": [],
   "source": [
    "# Configure the SDK to Personalize:\n",
    "personalize = boto3.client('personalize', region_name=region)\n",
    "personalize_runtime = boto3.client('personalize-runtime', region_name=region)"
   ]
  },
  {
   "cell_type": "markdown",
   "metadata": {},
   "source": [
    "## campaign_arnを取得し、campaignを削除\n",
    "\n",
    "https://boto3.amazonaws.com/v1/documentation/api/latest/reference/services/personalize.html#Personalize.Client.list_campaigns"
   ]
  },
  {
   "cell_type": "code",
   "execution_count": 19,
   "metadata": {},
   "outputs": [],
   "source": [
    "lst = personalize.list_campaigns()"
   ]
  },
  {
   "cell_type": "code",
   "execution_count": 25,
   "metadata": {},
   "outputs": [
    {
     "data": {
      "text/plain": [
       "[{'name': 'DEMO-campaign-personalized-ranking-2022-02-08-02-47-01',\n",
       "  'campaignArn': 'arn:aws:personalize:ap-northeast-1:805433377179:campaign/DEMO-campaign-personalized-ranking-2022-02-08-02-47-01',\n",
       "  'status': 'ACTIVE',\n",
       "  'creationDateTime': datetime.datetime(2022, 2, 8, 2, 47, 1, 780000, tzinfo=tzlocal()),\n",
       "  'lastUpdatedDateTime': datetime.datetime(2022, 2, 8, 2, 54, 6, 881000, tzinfo=tzlocal())},\n",
       " {'name': 'DEMO-campaign-sims-2022-02-08-02-47-01',\n",
       "  'campaignArn': 'arn:aws:personalize:ap-northeast-1:805433377179:campaign/DEMO-campaign-sims-2022-02-08-02-47-01',\n",
       "  'status': 'ACTIVE',\n",
       "  'creationDateTime': datetime.datetime(2022, 2, 8, 2, 47, 1, 736000, tzinfo=tzlocal()),\n",
       "  'lastUpdatedDateTime': datetime.datetime(2022, 2, 8, 2, 56, 24, 586000, tzinfo=tzlocal())},\n",
       " {'name': 'DEMO-campaign-user-personalization-2022-02-08-02-47-01',\n",
       "  'campaignArn': 'arn:aws:personalize:ap-northeast-1:805433377179:campaign/DEMO-campaign-user-personalization-2022-02-08-02-47-01',\n",
       "  'status': 'ACTIVE',\n",
       "  'creationDateTime': datetime.datetime(2022, 2, 8, 2, 47, 1, 689000, tzinfo=tzlocal()),\n",
       "  'lastUpdatedDateTime': datetime.datetime(2022, 2, 8, 4, 5, 10, 294000, tzinfo=tzlocal())}]"
      ]
     },
     "execution_count": 25,
     "metadata": {},
     "output_type": "execute_result"
    }
   ],
   "source": [
    "### 確認\n",
    "lst['campaigns']"
   ]
  },
  {
   "cell_type": "code",
   "execution_count": 26,
   "metadata": {},
   "outputs": [],
   "source": [
    "# Delete the campaign:\n",
    "for i in range(len(lst['campaigns'])):\n",
    "    campaign_arn = lst['campaigns'][i]['campaignArn']\n",
    "    personalize.delete_campaign(campaignArn=campaign_arn)\n",
    "    time.sleep(60)"
   ]
  },
  {
   "cell_type": "code",
   "execution_count": 34,
   "metadata": {},
   "outputs": [
    {
     "data": {
      "text/plain": [
       "{'campaigns': [],\n",
       " 'ResponseMetadata': {'RequestId': '744158ff-55b4-4f6f-ae2a-96726ddd0cf7',\n",
       "  'HTTPStatusCode': 200,\n",
       "  'HTTPHeaders': {'date': 'Mon, 30 May 2022 01:45:13 GMT',\n",
       "   'content-type': 'application/x-amz-json-1.1',\n",
       "   'content-length': '16',\n",
       "   'connection': 'keep-alive',\n",
       "   'x-amzn-requestid': '744158ff-55b4-4f6f-ae2a-96726ddd0cf7'},\n",
       "  'RetryAttempts': 0}}"
      ]
     },
     "execution_count": 34,
     "metadata": {},
     "output_type": "execute_result"
    }
   ],
   "source": [
    "### 確認\n",
    "personalize.list_campaigns()"
   ]
  },
  {
   "cell_type": "markdown",
   "metadata": {},
   "source": [
    "## solutionを削除"
   ]
  },
  {
   "cell_type": "code",
   "execution_count": 35,
   "metadata": {},
   "outputs": [],
   "source": [
    "l_solution = personalize.list_solutions()"
   ]
  },
  {
   "cell_type": "code",
   "execution_count": 36,
   "metadata": {},
   "outputs": [
    {
     "data": {
      "text/plain": [
       "{'solutions': [{'name': 'DEMO-movielens-affinity-2022-02-08-01-59-16',\n",
       "   'solutionArn': 'arn:aws:personalize:ap-northeast-1:805433377179:solution/DEMO-movielens-affinity-2022-02-08-01-59-16',\n",
       "   'status': 'ACTIVE',\n",
       "   'creationDateTime': datetime.datetime(2022, 2, 8, 1, 59, 16, 235000, tzinfo=tzlocal()),\n",
       "   'lastUpdatedDateTime': datetime.datetime(2022, 2, 8, 1, 59, 16, 235000, tzinfo=tzlocal())},\n",
       "  {'name': 'DEMO-movielens-attribute-affinity-2022-02-08-01-59-16',\n",
       "   'solutionArn': 'arn:aws:personalize:ap-northeast-1:805433377179:solution/DEMO-movielens-attribute-affinity-2022-02-08-01-59-16',\n",
       "   'status': 'ACTIVE',\n",
       "   'creationDateTime': datetime.datetime(2022, 2, 8, 1, 59, 16, 607000, tzinfo=tzlocal()),\n",
       "   'lastUpdatedDateTime': datetime.datetime(2022, 2, 8, 1, 59, 16, 607000, tzinfo=tzlocal())},\n",
       "  {'name': 'DEMO-movielens-personalized-ranking-2022-02-08-01-59-15',\n",
       "   'solutionArn': 'arn:aws:personalize:ap-northeast-1:805433377179:solution/DEMO-movielens-personalized-ranking-2022-02-08-01-59-15',\n",
       "   'status': 'ACTIVE',\n",
       "   'creationDateTime': datetime.datetime(2022, 2, 8, 1, 59, 15, 677000, tzinfo=tzlocal()),\n",
       "   'lastUpdatedDateTime': datetime.datetime(2022, 2, 8, 1, 59, 15, 677000, tzinfo=tzlocal())},\n",
       "  {'name': 'DEMO-movielens-sims-2022-02-08-01-59-15',\n",
       "   'solutionArn': 'arn:aws:personalize:ap-northeast-1:805433377179:solution/DEMO-movielens-sims-2022-02-08-01-59-15',\n",
       "   'status': 'ACTIVE',\n",
       "   'creationDateTime': datetime.datetime(2022, 2, 8, 1, 59, 15, 984000, tzinfo=tzlocal()),\n",
       "   'lastUpdatedDateTime': datetime.datetime(2022, 2, 8, 1, 59, 15, 984000, tzinfo=tzlocal())},\n",
       "  {'name': 'DEMO-movielens-user-personalization-2022-02-08-01-59-15',\n",
       "   'solutionArn': 'arn:aws:personalize:ap-northeast-1:805433377179:solution/DEMO-movielens-user-personalization-2022-02-08-01-59-15',\n",
       "   'status': 'ACTIVE',\n",
       "   'creationDateTime': datetime.datetime(2022, 2, 8, 1, 59, 15, 380000, tzinfo=tzlocal()),\n",
       "   'lastUpdatedDateTime': datetime.datetime(2022, 2, 8, 1, 59, 15, 380000, tzinfo=tzlocal())},\n",
       "  {'name': 'test',\n",
       "   'solutionArn': 'arn:aws:personalize:ap-northeast-1:805433377179:solution/test',\n",
       "   'status': 'ACTIVE',\n",
       "   'creationDateTime': datetime.datetime(2020, 7, 4, 10, 5, 3, 195000, tzinfo=tzlocal()),\n",
       "   'lastUpdatedDateTime': datetime.datetime(2020, 7, 4, 10, 5, 3, 195000, tzinfo=tzlocal())}],\n",
       " 'ResponseMetadata': {'RequestId': 'ac5722a0-8991-4974-a0dd-d7d60b2fdada',\n",
       "  'HTTPStatusCode': 200,\n",
       "  'HTTPHeaders': {'date': 'Mon, 30 May 2022 01:45:16 GMT',\n",
       "   'content-type': 'application/x-amz-json-1.1',\n",
       "   'content-length': '1585',\n",
       "   'connection': 'keep-alive',\n",
       "   'x-amzn-requestid': 'ac5722a0-8991-4974-a0dd-d7d60b2fdada'},\n",
       "  'RetryAttempts': 0}}"
      ]
     },
     "execution_count": 36,
     "metadata": {},
     "output_type": "execute_result"
    }
   ],
   "source": [
    "l_solution"
   ]
  },
  {
   "cell_type": "code",
   "execution_count": 37,
   "metadata": {},
   "outputs": [],
   "source": [
    "# Delete the solution\n",
    "for i in range(len(l_solution['solutions'])):\n",
    "    solution_arn = l_solution['solutions'][i]['solutionArn']\n",
    "    personalize.delete_solution(solutionArn=solution_arn)\n",
    "    time.sleep(60)"
   ]
  },
  {
   "cell_type": "code",
   "execution_count": 40,
   "metadata": {},
   "outputs": [
    {
     "data": {
      "text/plain": [
       "{'solutions': [],\n",
       " 'ResponseMetadata': {'RequestId': '3f3f9339-1396-4fcf-9c3a-6bb5aca9c24a',\n",
       "  'HTTPStatusCode': 200,\n",
       "  'HTTPHeaders': {'date': 'Mon, 30 May 2022 01:51:50 GMT',\n",
       "   'content-type': 'application/x-amz-json-1.1',\n",
       "   'content-length': '16',\n",
       "   'connection': 'keep-alive',\n",
       "   'x-amzn-requestid': '3f3f9339-1396-4fcf-9c3a-6bb5aca9c24a'},\n",
       "  'RetryAttempts': 0}}"
      ]
     },
     "execution_count": 40,
     "metadata": {},
     "output_type": "execute_result"
    }
   ],
   "source": [
    "### 確認\n",
    "personalize.list_solutions()"
   ]
  },
  {
   "cell_type": "markdown",
   "metadata": {},
   "source": [
    "## event trackerを削除"
   ]
  },
  {
   "cell_type": "code",
   "execution_count": 45,
   "metadata": {},
   "outputs": [],
   "source": [
    "l_etracker = personalize.list_event_trackers()"
   ]
  },
  {
   "cell_type": "code",
   "execution_count": 46,
   "metadata": {},
   "outputs": [
    {
     "data": {
      "text/plain": [
       "{'eventTrackers': [{'name': 'DEMO-event-tracker',\n",
       "   'eventTrackerArn': 'arn:aws:personalize:ap-northeast-1:805433377179:event-tracker/3b080f0c',\n",
       "   'status': 'ACTIVE',\n",
       "   'creationDateTime': datetime.datetime(2022, 2, 8, 2, 56, 28, 542000, tzinfo=tzlocal()),\n",
       "   'lastUpdatedDateTime': datetime.datetime(2022, 2, 8, 2, 56, 44, 307000, tzinfo=tzlocal())}],\n",
       " 'ResponseMetadata': {'RequestId': '9a698172-d52f-471f-a5ff-5094822d43d8',\n",
       "  'HTTPStatusCode': 200,\n",
       "  'HTTPHeaders': {'date': 'Mon, 30 May 2022 01:53:02 GMT',\n",
       "   'content-type': 'application/x-amz-json-1.1',\n",
       "   'content-length': '233',\n",
       "   'connection': 'keep-alive',\n",
       "   'x-amzn-requestid': '9a698172-d52f-471f-a5ff-5094822d43d8'},\n",
       "  'RetryAttempts': 0}}"
      ]
     },
     "execution_count": 46,
     "metadata": {},
     "output_type": "execute_result"
    }
   ],
   "source": [
    "l_etracker"
   ]
  },
  {
   "cell_type": "code",
   "execution_count": 47,
   "metadata": {},
   "outputs": [],
   "source": [
    "# Delete the event tracker\n",
    "for i in range(len(l_etracker['eventTrackers'])):\n",
    "    event_tracker_arn = l_etracker['eventTrackers'][i]['eventTrackerArn']\n",
    "    personalize.delete_event_tracker(eventTrackerArn=event_tracker_arn)\n",
    "time.sleep(60)"
   ]
  },
  {
   "cell_type": "code",
   "execution_count": 49,
   "metadata": {},
   "outputs": [
    {
     "data": {
      "text/plain": [
       "{'eventTrackers': [],\n",
       " 'ResponseMetadata': {'RequestId': '73dd368a-6364-45f8-bb68-4d93fa202173',\n",
       "  'HTTPStatusCode': 200,\n",
       "  'HTTPHeaders': {'date': 'Mon, 30 May 2022 01:55:53 GMT',\n",
       "   'content-type': 'application/x-amz-json-1.1',\n",
       "   'content-length': '20',\n",
       "   'connection': 'keep-alive',\n",
       "   'x-amzn-requestid': '73dd368a-6364-45f8-bb68-4d93fa202173'},\n",
       "  'RetryAttempts': 0}}"
      ]
     },
     "execution_count": 49,
     "metadata": {},
     "output_type": "execute_result"
    }
   ],
   "source": [
    "### 確認\n",
    "personalize.list_event_trackers()"
   ]
  },
  {
   "cell_type": "markdown",
   "metadata": {},
   "source": [
    "## interaction dataset を削除"
   ]
  },
  {
   "cell_type": "code",
   "execution_count": 51,
   "metadata": {},
   "outputs": [],
   "source": [
    "l_dataset = personalize.list_datasets()"
   ]
  },
  {
   "cell_type": "code",
   "execution_count": 52,
   "metadata": {},
   "outputs": [
    {
     "data": {
      "text/plain": [
       "{'datasets': [{'name': 'DEMO-movielens-interactions',\n",
       "   'datasetArn': 'arn:aws:personalize:ap-northeast-1:805433377179:dataset/DEMO-movielens-dataset-group-2022-02-08-01-46-28/INTERACTIONS',\n",
       "   'datasetType': 'INTERACTIONS',\n",
       "   'status': 'ACTIVE',\n",
       "   'creationDateTime': datetime.datetime(2022, 2, 8, 1, 50, 47, 779000, tzinfo=tzlocal()),\n",
       "   'lastUpdatedDateTime': datetime.datetime(2022, 2, 8, 1, 51, 8, 998000, tzinfo=tzlocal())},\n",
       "  {'name': 'DEMO-movielens-item',\n",
       "   'datasetArn': 'arn:aws:personalize:ap-northeast-1:805433377179:dataset/DEMO-movielens-dataset-group-2022-02-08-01-46-28/ITEMS',\n",
       "   'datasetType': 'ITEMS',\n",
       "   'status': 'ACTIVE',\n",
       "   'creationDateTime': datetime.datetime(2022, 2, 8, 1, 51, 43, 585000, tzinfo=tzlocal()),\n",
       "   'lastUpdatedDateTime': datetime.datetime(2022, 2, 8, 1, 52, 7, 631000, tzinfo=tzlocal())},\n",
       "  {'name': 'DEMO-movielens-user',\n",
       "   'datasetArn': 'arn:aws:personalize:ap-northeast-1:805433377179:dataset/DEMO-movielens-dataset-group-2022-02-08-01-46-28/USERS',\n",
       "   'datasetType': 'USERS',\n",
       "   'status': 'ACTIVE',\n",
       "   'creationDateTime': datetime.datetime(2022, 2, 8, 1, 51, 13, 165000, tzinfo=tzlocal()),\n",
       "   'lastUpdatedDateTime': datetime.datetime(2022, 2, 8, 1, 51, 38, 390000, tzinfo=tzlocal())},\n",
       "  {'name': 'int_mini_purchase',\n",
       "   'datasetArn': 'arn:aws:personalize:ap-northeast-1:805433377179:dataset/demo-sb-mini-purchase/INTERACTIONS',\n",
       "   'datasetType': 'INTERACTIONS',\n",
       "   'status': 'ACTIVE',\n",
       "   'creationDateTime': datetime.datetime(2021, 12, 8, 1, 27, 1, 386000, tzinfo=tzlocal()),\n",
       "   'lastUpdatedDateTime': datetime.datetime(2021, 12, 8, 1, 27, 26, 634000, tzinfo=tzlocal())},\n",
       "  {'name': 'demo_sb',\n",
       "   'datasetArn': 'arn:aws:personalize:ap-northeast-1:805433377179:dataset/demo_sb/INTERACTIONS',\n",
       "   'datasetType': 'INTERACTIONS',\n",
       "   'status': 'ACTIVE',\n",
       "   'creationDateTime': datetime.datetime(2021, 12, 7, 23, 39, 31, 956000, tzinfo=tzlocal()),\n",
       "   'lastUpdatedDateTime': datetime.datetime(2021, 12, 7, 23, 39, 33, 556000, tzinfo=tzlocal())},\n",
       "  {'name': 'demosb2',\n",
       "   'datasetArn': 'arn:aws:personalize:ap-northeast-1:805433377179:dataset/demo_sb2/INTERACTIONS',\n",
       "   'datasetType': 'INTERACTIONS',\n",
       "   'status': 'ACTIVE',\n",
       "   'creationDateTime': datetime.datetime(2022, 4, 22, 7, 15, 25, 343000, tzinfo=tzlocal()),\n",
       "   'lastUpdatedDateTime': datetime.datetime(2022, 4, 22, 7, 15, 30, 89000, tzinfo=tzlocal())},\n",
       "  {'name': 'user',\n",
       "   'datasetArn': 'arn:aws:personalize:ap-northeast-1:805433377179:dataset/demo_sb2/USERS',\n",
       "   'datasetType': 'USERS',\n",
       "   'status': 'ACTIVE',\n",
       "   'creationDateTime': datetime.datetime(2022, 4, 22, 7, 21, 0, 483000, tzinfo=tzlocal()),\n",
       "   'lastUpdatedDateTime': datetime.datetime(2022, 4, 22, 7, 21, 21, 509000, tzinfo=tzlocal())},\n",
       "  {'name': 'demo_sb_custom',\n",
       "   'datasetArn': 'arn:aws:personalize:ap-northeast-1:805433377179:dataset/demo_sb_custom/INTERACTIONS',\n",
       "   'datasetType': 'INTERACTIONS',\n",
       "   'status': 'ACTIVE',\n",
       "   'creationDateTime': datetime.datetime(2021, 12, 8, 4, 9, 40, 515000, tzinfo=tzlocal()),\n",
       "   'lastUpdatedDateTime': datetime.datetime(2021, 12, 8, 4, 9, 54, 83000, tzinfo=tzlocal())},\n",
       "  {'name': 'int_only_mini',\n",
       "   'datasetArn': 'arn:aws:personalize:ap-northeast-1:805433377179:dataset/demo_sb_mini/INTERACTIONS',\n",
       "   'datasetType': 'INTERACTIONS',\n",
       "   'status': 'ACTIVE',\n",
       "   'creationDateTime': datetime.datetime(2021, 12, 8, 0, 25, 3, 20000, tzinfo=tzlocal()),\n",
       "   'lastUpdatedDateTime': datetime.datetime(2021, 12, 8, 0, 25, 28, 706000, tzinfo=tzlocal())},\n",
       "  {'name': 'my-dataset',\n",
       "   'datasetArn': 'arn:aws:personalize:ap-northeast-1:805433377179:dataset/my-personalize-dataset-group/INTERACTIONS',\n",
       "   'datasetType': 'INTERACTIONS',\n",
       "   'status': 'ACTIVE',\n",
       "   'creationDateTime': datetime.datetime(2019, 12, 4, 2, 41, 19, 164000, tzinfo=tzlocal()),\n",
       "   'lastUpdatedDateTime': datetime.datetime(2019, 12, 4, 2, 41, 19, 164000, tzinfo=tzlocal())},\n",
       "  {'name': 'personalize-handson',\n",
       "   'datasetArn': 'arn:aws:personalize:ap-northeast-1:805433377179:dataset/personalize-handson/INTERACTIONS',\n",
       "   'datasetType': 'INTERACTIONS',\n",
       "   'status': 'ACTIVE',\n",
       "   'creationDateTime': datetime.datetime(2019, 12, 4, 5, 25, 8, 940000, tzinfo=tzlocal()),\n",
       "   'lastUpdatedDateTime': datetime.datetime(2019, 12, 4, 5, 25, 8, 940000, tzinfo=tzlocal())},\n",
       "  {'name': 'personalize-launch-interactions',\n",
       "   'datasetArn': 'arn:aws:personalize:ap-northeast-1:805433377179:dataset/personalize-launch-demo/INTERACTIONS',\n",
       "   'datasetType': 'INTERACTIONS',\n",
       "   'status': 'ACTIVE',\n",
       "   'creationDateTime': datetime.datetime(2021, 10, 20, 1, 1, 54, 906000, tzinfo=tzlocal()),\n",
       "   'lastUpdatedDateTime': datetime.datetime(2021, 10, 20, 1, 2, 23, 533000, tzinfo=tzlocal())}],\n",
       " 'ResponseMetadata': {'RequestId': '182f406e-a364-4b60-bc55-1c927b4e3866',\n",
       "  'HTTPStatusCode': 200,\n",
       "  'HTTPHeaders': {'date': 'Mon, 30 May 2022 01:56:47 GMT',\n",
       "   'content-type': 'application/x-amz-json-1.1',\n",
       "   'content-length': '3067',\n",
       "   'connection': 'keep-alive',\n",
       "   'x-amzn-requestid': '182f406e-a364-4b60-bc55-1c927b4e3866'},\n",
       "  'RetryAttempts': 0}}"
      ]
     },
     "execution_count": 52,
     "metadata": {},
     "output_type": "execute_result"
    }
   ],
   "source": [
    "l_dataset"
   ]
  },
  {
   "cell_type": "code",
   "execution_count": 53,
   "metadata": {},
   "outputs": [
    {
     "ename": "ResourceInUseException",
     "evalue": "An error occurred (ResourceInUseException) when calling the DeleteDataset operation: Please delete all filters before deleting the dataset",
     "output_type": "error",
     "traceback": [
      "\u001b[0;31m---------------------------------------------------------------------------\u001b[0m",
      "\u001b[0;31mResourceInUseException\u001b[0m                    Traceback (most recent call last)",
      "\u001b[0;32m<ipython-input-53-105a0d8059d1>\u001b[0m in \u001b[0;36m<module>\u001b[0;34m\u001b[0m\n\u001b[1;32m      2\u001b[0m \u001b[0;32mfor\u001b[0m \u001b[0mi\u001b[0m \u001b[0;32min\u001b[0m \u001b[0mrange\u001b[0m\u001b[0;34m(\u001b[0m\u001b[0mlen\u001b[0m\u001b[0;34m(\u001b[0m\u001b[0ml_dataset\u001b[0m\u001b[0;34m[\u001b[0m\u001b[0;34m'datasets'\u001b[0m\u001b[0;34m]\u001b[0m\u001b[0;34m)\u001b[0m\u001b[0;34m)\u001b[0m\u001b[0;34m:\u001b[0m\u001b[0;34m\u001b[0m\u001b[0;34m\u001b[0m\u001b[0m\n\u001b[1;32m      3\u001b[0m     \u001b[0mdataset_arn\u001b[0m \u001b[0;34m=\u001b[0m \u001b[0ml_dataset\u001b[0m\u001b[0;34m[\u001b[0m\u001b[0;34m'datasets'\u001b[0m\u001b[0;34m]\u001b[0m\u001b[0;34m[\u001b[0m\u001b[0mi\u001b[0m\u001b[0;34m]\u001b[0m\u001b[0;34m[\u001b[0m\u001b[0;34m'datasetArn'\u001b[0m\u001b[0;34m]\u001b[0m\u001b[0;34m\u001b[0m\u001b[0;34m\u001b[0m\u001b[0m\n\u001b[0;32m----> 4\u001b[0;31m     \u001b[0mpersonalize\u001b[0m\u001b[0;34m.\u001b[0m\u001b[0mdelete_dataset\u001b[0m\u001b[0;34m(\u001b[0m\u001b[0mdatasetArn\u001b[0m\u001b[0;34m=\u001b[0m\u001b[0mdataset_arn\u001b[0m\u001b[0;34m)\u001b[0m\u001b[0;34m\u001b[0m\u001b[0;34m\u001b[0m\u001b[0m\n\u001b[0m\u001b[1;32m      5\u001b[0m \u001b[0mtime\u001b[0m\u001b[0;34m.\u001b[0m\u001b[0msleep\u001b[0m\u001b[0;34m(\u001b[0m\u001b[0;36m60\u001b[0m\u001b[0;34m)\u001b[0m\u001b[0;34m\u001b[0m\u001b[0;34m\u001b[0m\u001b[0m\n",
      "\u001b[0;32m/opt/conda/lib/python3.7/site-packages/botocore/client.py\u001b[0m in \u001b[0;36m_api_call\u001b[0;34m(self, *args, **kwargs)\u001b[0m\n\u001b[1;32m    413\u001b[0m                     \"%s() only accepts keyword arguments.\" % py_operation_name)\n\u001b[1;32m    414\u001b[0m             \u001b[0;31m# The \"self\" in this scope is referring to the BaseClient.\u001b[0m\u001b[0;34m\u001b[0m\u001b[0;34m\u001b[0m\u001b[0;34m\u001b[0m\u001b[0m\n\u001b[0;32m--> 415\u001b[0;31m             \u001b[0;32mreturn\u001b[0m \u001b[0mself\u001b[0m\u001b[0;34m.\u001b[0m\u001b[0m_make_api_call\u001b[0m\u001b[0;34m(\u001b[0m\u001b[0moperation_name\u001b[0m\u001b[0;34m,\u001b[0m \u001b[0mkwargs\u001b[0m\u001b[0;34m)\u001b[0m\u001b[0;34m\u001b[0m\u001b[0;34m\u001b[0m\u001b[0m\n\u001b[0m\u001b[1;32m    416\u001b[0m \u001b[0;34m\u001b[0m\u001b[0m\n\u001b[1;32m    417\u001b[0m         \u001b[0m_api_call\u001b[0m\u001b[0;34m.\u001b[0m\u001b[0m__name__\u001b[0m \u001b[0;34m=\u001b[0m \u001b[0mstr\u001b[0m\u001b[0;34m(\u001b[0m\u001b[0mpy_operation_name\u001b[0m\u001b[0;34m)\u001b[0m\u001b[0;34m\u001b[0m\u001b[0;34m\u001b[0m\u001b[0m\n",
      "\u001b[0;32m/opt/conda/lib/python3.7/site-packages/botocore/client.py\u001b[0m in \u001b[0;36m_make_api_call\u001b[0;34m(self, operation_name, api_params)\u001b[0m\n\u001b[1;32m    743\u001b[0m             \u001b[0merror_code\u001b[0m \u001b[0;34m=\u001b[0m \u001b[0mparsed_response\u001b[0m\u001b[0;34m.\u001b[0m\u001b[0mget\u001b[0m\u001b[0;34m(\u001b[0m\u001b[0;34m\"Error\"\u001b[0m\u001b[0;34m,\u001b[0m \u001b[0;34m{\u001b[0m\u001b[0;34m}\u001b[0m\u001b[0;34m)\u001b[0m\u001b[0;34m.\u001b[0m\u001b[0mget\u001b[0m\u001b[0;34m(\u001b[0m\u001b[0;34m\"Code\"\u001b[0m\u001b[0;34m)\u001b[0m\u001b[0;34m\u001b[0m\u001b[0;34m\u001b[0m\u001b[0m\n\u001b[1;32m    744\u001b[0m             \u001b[0merror_class\u001b[0m \u001b[0;34m=\u001b[0m \u001b[0mself\u001b[0m\u001b[0;34m.\u001b[0m\u001b[0mexceptions\u001b[0m\u001b[0;34m.\u001b[0m\u001b[0mfrom_code\u001b[0m\u001b[0;34m(\u001b[0m\u001b[0merror_code\u001b[0m\u001b[0;34m)\u001b[0m\u001b[0;34m\u001b[0m\u001b[0;34m\u001b[0m\u001b[0m\n\u001b[0;32m--> 745\u001b[0;31m             \u001b[0;32mraise\u001b[0m \u001b[0merror_class\u001b[0m\u001b[0;34m(\u001b[0m\u001b[0mparsed_response\u001b[0m\u001b[0;34m,\u001b[0m \u001b[0moperation_name\u001b[0m\u001b[0;34m)\u001b[0m\u001b[0;34m\u001b[0m\u001b[0;34m\u001b[0m\u001b[0m\n\u001b[0m\u001b[1;32m    746\u001b[0m         \u001b[0;32melse\u001b[0m\u001b[0;34m:\u001b[0m\u001b[0;34m\u001b[0m\u001b[0;34m\u001b[0m\u001b[0m\n\u001b[1;32m    747\u001b[0m             \u001b[0;32mreturn\u001b[0m \u001b[0mparsed_response\u001b[0m\u001b[0;34m\u001b[0m\u001b[0;34m\u001b[0m\u001b[0m\n",
      "\u001b[0;31mResourceInUseException\u001b[0m: An error occurred (ResourceInUseException) when calling the DeleteDataset operation: Please delete all filters before deleting the dataset"
     ]
    }
   ],
   "source": [
    "# Delete the interaction dataset\n",
    "for i in range(len(l_dataset['datasets'])):\n",
    "    dataset_arn = l_dataset['datasets'][i]['datasetArn']\n",
    "    personalize.delete_dataset(datasetArn=dataset_arn)\n",
    "time.sleep(60)"
   ]
  },
  {
   "cell_type": "markdown",
   "metadata": {},
   "source": [
    "## event dataset を削除"
   ]
  },
  {
   "cell_type": "code",
   "execution_count": null,
   "metadata": {},
   "outputs": [],
   "source": [
    "# Delete the event dataset\n",
    "event_interactions_dataset_arn = dataset_arn\n",
    "event_interactions_dataset_arn = event_interactions_dataset_arn.replace(\"INTERACTIONS\", \"EVENT_INTERACTIONS\")\n",
    "personalize.delete_dataset(datasetArn=event_interactions_dataset_arn)\n",
    "time.sleep(60)"
   ]
  },
  {
   "cell_type": "markdown",
   "metadata": {},
   "source": [
    "## schema を削除"
   ]
  },
  {
   "cell_type": "code",
   "execution_count": null,
   "metadata": {},
   "outputs": [],
   "source": [
    "# Delete the schema\n",
    "personalize.delete_schema(schemaArn=schema_arn)"
   ]
  },
  {
   "cell_type": "code",
   "execution_count": null,
   "metadata": {},
   "outputs": [],
   "source": []
  }
 ],
 "metadata": {
  "instance_type": "ml.t3.medium",
  "kernelspec": {
   "display_name": "Python 3 (Data Science)",
   "language": "python",
   "name": "python3__SAGEMAKER_INTERNAL__arn:aws:sagemaker:us-east-1:081325390199:image/datascience-1.0"
  },
  "language_info": {
   "codemirror_mode": {
    "name": "ipython",
    "version": 3
   },
   "file_extension": ".py",
   "mimetype": "text/x-python",
   "name": "python",
   "nbconvert_exporter": "python",
   "pygments_lexer": "ipython3",
   "version": "3.7.10"
  }
 },
 "nbformat": 4,
 "nbformat_minor": 4
}
