{
 "cells": [
  {
   "cell_type": "markdown",
   "metadata": {},
   "source": [
    "# Amazon Personalizeのリソース削除を行う\n",
    "\n",
    "参考\n",
    "\n",
    "https://github.com/aws-samples/amazon-personalize-samples/blob/master/getting_started/notebooks/Cleanup.ipynb"
   ]
  },
  {
   "cell_type": "markdown",
   "metadata": {},
   "source": [
    "# リージョン指定"
   ]
  },
  {
   "cell_type": "code",
   "execution_count": null,
   "metadata": {},
   "outputs": [],
   "source": [
    "region = 'ap-northeast-1'"
   ]
  },
  {
   "cell_type": "code",
   "execution_count": null,
   "metadata": {},
   "outputs": [],
   "source": [
    "# Imports\n",
    "import boto3\n",
    "import json\n",
    "import numpy as np\n",
    "import pandas as pd\n",
    "import time"
   ]
  },
  {
   "cell_type": "code",
   "execution_count": null,
   "metadata": {},
   "outputs": [],
   "source": [
    "# Configure the SDK to Personalize:\n",
    "personalize = boto3.client('personalize', region_name=region)\n",
    "personalize_runtime = boto3.client('personalize-runtime', region_name=region)"
   ]
  },
  {
   "cell_type": "markdown",
   "metadata": {},
   "source": [
    "## campaign_arnを取得し、campaignを削除\n",
    "\n",
    "https://boto3.amazonaws.com/v1/documentation/api/latest/reference/services/personalize.html#Personalize.Client.list_campaigns"
   ]
  },
  {
   "cell_type": "code",
   "execution_count": null,
   "metadata": {},
   "outputs": [],
   "source": [
    "lst = personalize.list_campaigns()"
   ]
  },
  {
   "cell_type": "code",
   "execution_count": null,
   "metadata": {},
   "outputs": [],
   "source": [
    "### 確認\n",
    "lst['campaigns']"
   ]
  },
  {
   "cell_type": "code",
   "execution_count": null,
   "metadata": {},
   "outputs": [],
   "source": [
    "# Delete the campaign:\n",
    "for i in range(len(lst['campaigns'])):\n",
    "    campaign_arn = lst['campaigns'][i]['campaignArn']\n",
    "    personalize.delete_campaign(campaignArn=campaign_arn)\n",
    "time.sleep(60)"
   ]
  },
  {
   "cell_type": "code",
   "execution_count": null,
   "metadata": {},
   "outputs": [],
   "source": [
    "### 確認\n",
    "personalize.list_campaigns()"
   ]
  },
  {
   "cell_type": "markdown",
   "metadata": {},
   "source": [
    "## solutionを削除"
   ]
  },
  {
   "cell_type": "code",
   "execution_count": null,
   "metadata": {},
   "outputs": [],
   "source": [
    "l_solution = personalize.list_solutions()"
   ]
  },
  {
   "cell_type": "code",
   "execution_count": null,
   "metadata": {},
   "outputs": [],
   "source": [
    "l_solution"
   ]
  },
  {
   "cell_type": "code",
   "execution_count": null,
   "metadata": {},
   "outputs": [],
   "source": [
    "# Delete the solution\n",
    "for i in range(len(l_solution['solutions'])):\n",
    "    solution_arn = l_solution['solutions'][i]['solutionArn']\n",
    "    personalize.delete_solution(solutionArn=solution_arn)\n",
    "time.sleep(60)"
   ]
  },
  {
   "cell_type": "code",
   "execution_count": null,
   "metadata": {},
   "outputs": [],
   "source": [
    "### 確認\n",
    "personalize.list_solutions()"
   ]
  },
  {
   "cell_type": "markdown",
   "metadata": {},
   "source": [
    "## event trackerを削除"
   ]
  },
  {
   "cell_type": "code",
   "execution_count": null,
   "metadata": {},
   "outputs": [],
   "source": [
    "l_etracker = personalize.list_event_trackers()"
   ]
  },
  {
   "cell_type": "code",
   "execution_count": null,
   "metadata": {},
   "outputs": [],
   "source": [
    "l_etracker"
   ]
  },
  {
   "cell_type": "code",
   "execution_count": null,
   "metadata": {},
   "outputs": [],
   "source": [
    "# Delete the event tracker\n",
    "for i in range(len(l_etracker['eventTrackers'])):\n",
    "    event_tracker_arn = l_etracker['eventTrackers'][i]['eventTrackerArn']\n",
    "    personalize.delete_event_tracker(eventTrackerArn=event_tracker_arn)\n",
    "time.sleep(60)"
   ]
  },
  {
   "cell_type": "code",
   "execution_count": null,
   "metadata": {},
   "outputs": [],
   "source": [
    "### 確認\n",
    "personalize.list_event_trackers()"
   ]
  },
  {
   "cell_type": "markdown",
   "metadata": {},
   "source": [
    "## filter を削除"
   ]
  },
  {
   "cell_type": "code",
   "execution_count": null,
   "metadata": {},
   "outputs": [],
   "source": [
    "l_filter = personalize.list_filters()"
   ]
  },
  {
   "cell_type": "code",
   "execution_count": null,
   "metadata": {},
   "outputs": [],
   "source": [
    "l_filter"
   ]
  },
  {
   "cell_type": "code",
   "execution_count": null,
   "metadata": {},
   "outputs": [],
   "source": [
    "# Delete the filter\n",
    "for i in range(len(l_filter['Filters'])):\n",
    "    filter_arn = l_filter['Filters'][i]['filterArn']\n",
    "    personalize.delete_filter(filterArn=filter_arn)\n",
    "time.sleep(60)"
   ]
  },
  {
   "cell_type": "code",
   "execution_count": null,
   "metadata": {},
   "outputs": [],
   "source": [
    "### 確認\n",
    "personalize.list_filters()"
   ]
  },
  {
   "cell_type": "markdown",
   "metadata": {},
   "source": [
    "## recommenders を削除"
   ]
  },
  {
   "cell_type": "code",
   "execution_count": null,
   "metadata": {},
   "outputs": [],
   "source": [
    "l_recommender = personalize.list_recommenders()"
   ]
  },
  {
   "cell_type": "code",
   "execution_count": null,
   "metadata": {},
   "outputs": [],
   "source": [
    "l_recommender"
   ]
  },
  {
   "cell_type": "code",
   "execution_count": null,
   "metadata": {},
   "outputs": [],
   "source": [
    "# Delete the reccomenders\n",
    "for i in range(len(l_recommender['recommenders'])):\n",
    "    recommender_arn = l_recommender['recommenders'][i]['recommenderArn']\n",
    "    personalize.delete_recommender(recommenderArn=recommender_arn)\n",
    "    \n",
    "### 削除されるまで待つ\n",
    "while 1:\n",
    "    if len(personalize.list_recommenders()['recommenders'])==0:\n",
    "        print('Complete deleting!!!!!')\n",
    "        break\n",
    "    print('waiting for deleting...')\n",
    "    time.sleep(10)"
   ]
  },
  {
   "cell_type": "markdown",
   "metadata": {},
   "source": [
    "## interaction dataset を削除"
   ]
  },
  {
   "cell_type": "code",
   "execution_count": null,
   "metadata": {},
   "outputs": [],
   "source": [
    "l_dataset = personalize.list_datasets()"
   ]
  },
  {
   "cell_type": "code",
   "execution_count": null,
   "metadata": {},
   "outputs": [],
   "source": [
    "l_dataset"
   ]
  },
  {
   "cell_type": "code",
   "execution_count": null,
   "metadata": {},
   "outputs": [],
   "source": [
    "# Delete the interaction dataset\n",
    "for i in range(len(l_dataset['datasets'])):\n",
    "    dataset_arn = l_dataset['datasets'][i]['datasetArn']\n",
    "    personalize.delete_dataset(datasetArn=dataset_arn)\n",
    "\n",
    "### 削除されるまで待つ\n",
    "while 1:\n",
    "    if len(personalize.list_datasets()['datasets'])==0:\n",
    "        print('Complete deleting!!!!!')\n",
    "        break\n",
    "    print('waiting for deleting...')\n",
    "    time.sleep(10)"
   ]
  },
  {
   "cell_type": "code",
   "execution_count": null,
   "metadata": {},
   "outputs": [],
   "source": [
    "### 確認\n",
    "personalize.list_datasets()"
   ]
  },
  {
   "cell_type": "markdown",
   "metadata": {},
   "source": [
    "## schema を削除"
   ]
  },
  {
   "cell_type": "code",
   "execution_count": null,
   "metadata": {},
   "outputs": [],
   "source": [
    "l_schema = personalize.list_schemas()"
   ]
  },
  {
   "cell_type": "code",
   "execution_count": null,
   "metadata": {},
   "outputs": [],
   "source": [
    "l_schema"
   ]
  },
  {
   "cell_type": "code",
   "execution_count": null,
   "metadata": {},
   "outputs": [],
   "source": [
    "# Delete the schema\n",
    "for i in range(len(l_schema['schemas'])):\n",
    "    schema_arn = l_schema['schemas'][i]['schemaArn']\n",
    "    personalize.delete_schema(schemaArn=schema_arn)\n",
    "\n",
    "### 削除されるまで待つ\n",
    "while 1:\n",
    "    if len(personalize.list_schemas()['schemas'])==0:\n",
    "        print('Complete deleting!!!!!')\n",
    "        break\n",
    "    print('waiting for deleting...')\n",
    "    time.sleep(10)"
   ]
  },
  {
   "cell_type": "code",
   "execution_count": null,
   "metadata": {},
   "outputs": [],
   "source": [
    "### 確認\n",
    "personalize.list_schemas()"
   ]
  },
  {
   "cell_type": "markdown",
   "metadata": {},
   "source": [
    "## datasetGroup を削除"
   ]
  },
  {
   "cell_type": "code",
   "execution_count": null,
   "metadata": {},
   "outputs": [],
   "source": [
    "l_dgroup = personalize.list_dataset_groups()"
   ]
  },
  {
   "cell_type": "code",
   "execution_count": null,
   "metadata": {},
   "outputs": [],
   "source": [
    "l_dgroup"
   ]
  },
  {
   "cell_type": "code",
   "execution_count": null,
   "metadata": {},
   "outputs": [],
   "source": [
    "# Delete the dataset group\n",
    "for i in range(len(l_dgroup['datasetGroups'])):\n",
    "    dataset_group_arn = l_dgroup['datasetGroups'][i]['datasetGroupArn']\n",
    "    personalize.delete_dataset_group(datasetGroupArn=dataset_group_arn)\n",
    "\n",
    "### 削除されるまで待つ\n",
    "while 1:\n",
    "    if len(personalize.list_dataset_groups()['datasetGroups'])==0:\n",
    "        print('Complete deleting!!!!!')\n",
    "        break\n",
    "    print('waiting for deleting...')\n",
    "    time.sleep(10)"
   ]
  },
  {
   "cell_type": "code",
   "execution_count": null,
   "metadata": {},
   "outputs": [],
   "source": [
    "### 確認\n",
    "personalize.list_dataset_groups()"
   ]
  },
  {
   "cell_type": "code",
   "execution_count": null,
   "metadata": {},
   "outputs": [],
   "source": []
  }
 ],
 "metadata": {
  "instance_type": "ml.t3.medium",
  "kernelspec": {
   "display_name": "Python 3 (Data Science)",
   "language": "python",
   "name": "python3__SAGEMAKER_INTERNAL__arn:aws:sagemaker:us-east-1:081325390199:image/datascience-1.0"
  },
  "language_info": {
   "codemirror_mode": {
    "name": "ipython",
    "version": 3
   },
   "file_extension": ".py",
   "mimetype": "text/x-python",
   "name": "python",
   "nbconvert_exporter": "python",
   "pygments_lexer": "ipython3",
   "version": "3.7.10"
  }
 },
 "nbformat": 4,
 "nbformat_minor": 4
}
