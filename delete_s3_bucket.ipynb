{
 "cells": [
  {
   "cell_type": "markdown",
   "id": "e5d25722",
   "metadata": {},
   "source": [
    "# リスト指定したS3バケットを削除する\n",
    "\n",
    "https://boto3.amazonaws.com/v1/documentation/api/latest/guide/s3-example-creating-buckets.html"
   ]
  },
  {
   "cell_type": "markdown",
   "id": "1be31e1c",
   "metadata": {},
   "source": [
    "### 前提条件\n",
    "* bucket delete する権限を持っていること"
   ]
  },
  {
   "cell_type": "code",
   "execution_count": null,
   "id": "d41acc76",
   "metadata": {},
   "outputs": [],
   "source": [
    "import boto3"
   ]
  },
  {
   "cell_type": "markdown",
   "id": "0491b9b7",
   "metadata": {},
   "source": [
    "# オブジェクトリスト作成"
   ]
  },
  {
   "cell_type": "code",
   "execution_count": null,
   "id": "af7b62e6",
   "metadata": {},
   "outputs": [],
   "source": [
    "# Retrieve the list of existing buckets\n",
    "s3 = boto3.client('s3')\n",
    "response = s3.list_buckets()\n",
    "\n",
    "# Output the bucket names\n",
    "print('Existing buckets:')\n",
    "for bucket in response['Buckets']:\n",
    "    print(f'  {bucket[\"Name\"]}')"
   ]
  },
  {
   "cell_type": "markdown",
   "id": "08ececbe",
   "metadata": {},
   "source": [
    "## listを設定\n",
    "誤って削除しないよう、手動でリスト作成する"
   ]
  },
  {
   "cell_type": "code",
   "execution_count": null,
   "id": "5b865919",
   "metadata": {},
   "outputs": [],
   "source": [
    "l_delete=[\n",
    "  'lex-web-ui-codebuilddepl-lexwebuicloudfrontdistri-eaqpi2r81r0b',\n",
    "  'lex-web-ui-codebuilddepl-lexwebuicloudfrontdistri-lf93key56b',\n",
    "]"
   ]
  },
  {
   "cell_type": "markdown",
   "id": "2b2c3739",
   "metadata": {},
   "source": [
    "# リストのバケットを削除していく\n",
    "* バケットを空にする\n",
    "\n",
    "ResourceAPI  \n",
    "https://boto3.amazonaws.com/v1/documentation/api/latest/guide/resources.html\n",
    "\n",
    "* バケットを削除する\n",
    "https://boto3.amazonaws.com/v1/documentation/api/latest/reference/services/s3.html#S3.Client.delete_bucket\n",
    "\n",
    "\n",
    "\n"
   ]
  },
  {
   "cell_type": "code",
   "execution_count": null,
   "id": "6d8725a4",
   "metadata": {},
   "outputs": [],
   "source": [
    "s3_resource = boto3.resource('s3')\n",
    "\n",
    "for bct_str in l_delete:\n",
    "    print(bct_str)\n",
    "    try:\n",
    "        ### バケットを空にする(resourceAPIを利用)\n",
    "        bucket = s3_resource.Bucket(bct_str)\n",
    "        bucket.objects.all().delete()\n",
    "        \n",
    "        ### オブジェクトのバージョンを削除\n",
    "        bucket.object_versions.delete()\n",
    "\n",
    "        ### バケットを削除\n",
    "        s3.delete_bucket(Bucket=bct_str)\n",
    "        \n",
    "    except s3.exceptions.NoSuchBucket as e:\n",
    "        print('[Cannot delete]', bct_str, 'does not exist!')\n",
    "    except Exception as e:\n",
    "        print(e)"
   ]
  },
  {
   "cell_type": "markdown",
   "id": "150ace88",
   "metadata": {},
   "source": [
    "# 参考\n",
    "https://www.web-dev-qa-db-ja.com/ja/python/boto3%E3%82%92%E4%BD%BF%E7%94%A8%E3%81%97%E3%81%A6s3%E3%83%90%E3%82%B1%E3%83%83%E3%83%88%E3%82%92%E7%A9%BA%E3%81%AB%E3%81%99%E3%82%8B%E6%9C%80%E3%82%82%E9%80%9F%E3%81%84%E6%96%B9%E6%B3%95%E3%81%AF%E4%BD%95%E3%81%A7%E3%81%99%E3%81%8B%EF%BC%9F/831049233/\n",
    "\n",
    "https://dev.classmethod.jp/articles/boto3-client-api-and-resource-api/\n",
    "\n",
    "https://qiita.com/sokutou-metsu/items/5ba7531117224ee5e8af\n",
    "\n",
    "boto3の例外処理  \n",
    "https://www.bioerrorlog.work/entry/catch-boto3-exceptions\n",
    "\n"
   ]
  },
  {
   "cell_type": "code",
   "execution_count": null,
   "id": "6bd44b60",
   "metadata": {},
   "outputs": [],
   "source": []
  }
 ],
 "metadata": {
  "kernelspec": {
   "display_name": "conda_python3",
   "language": "python",
   "name": "conda_python3"
  },
  "language_info": {
   "codemirror_mode": {
    "name": "ipython",
    "version": 3
   },
   "file_extension": ".py",
   "mimetype": "text/x-python",
   "name": "python",
   "nbconvert_exporter": "python",
   "pygments_lexer": "ipython3",
   "version": "3.6.13"
  }
 },
 "nbformat": 4,
 "nbformat_minor": 5
}
